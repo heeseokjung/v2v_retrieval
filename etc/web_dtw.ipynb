{
 "cells": [
  {
   "cell_type": "code",
   "execution_count": 1,
   "metadata": {},
   "outputs": [],
   "source": [
    "import torch\n",
    "import numpy as np\n",
    "import matplotlib.pyplot as plt\n",
    "\n",
    "from momaapi import MOMA\n",
    "from sentence_transformers import SentenceTransformer\n",
    "from tqdm import tqdm"
   ]
  },
  {
   "cell_type": "code",
   "execution_count": 2,
   "metadata": {},
   "outputs": [],
   "source": [
    "moma = MOMA(\"/data/dir_moma\")\n",
    "sbert = SentenceTransformer(\"all-MiniLM-L6-v2\")"
   ]
  },
  {
   "cell_type": "code",
   "execution_count": 3,
   "metadata": {},
   "outputs": [
    {
     "name": "stderr",
     "output_type": "stream",
     "text": [
      "[MOMA] preprocessing: 100%|██████████| 1412/1412 [00:56<00:00, 25.19it/s]\n"
     ]
    }
   ],
   "source": [
    "vid2seqembs = {}\n",
    "ids_act = moma.get_ids_act()\n",
    "\n",
    "for act in tqdm(moma.get_anns_act(ids_act=ids_act), desc=\"[MOMA] preprocessing\"):\n",
    "    seq = []\n",
    "    for sact in moma.get_anns_sact(ids_sact=act.ids_sact):\n",
    "        seq.append(sact.cname)\n",
    "    with torch.no_grad():\n",
    "        seq_emb = sbert.encode(seq)\n",
    "    vid2seqembs[act.id] = seq_emb"
   ]
  },
  {
   "cell_type": "code",
   "execution_count": 4,
   "metadata": {},
   "outputs": [],
   "source": [
    "def compute_dtw_score(x, y, eps, w):\n",
    "    nx = x / np.linalg.norm(x, axis=-1, keepdims=True)\n",
    "    ny = y / np.linalg.norm(y, axis=-1, keepdims=True)\n",
    "    z = np.matmul(nx, ny.T)\n",
    "\n",
    "    m, n = z.shape[0], z.shape[1]\n",
    "    R = np.ones((m+1, n+1))\n",
    "    R[0,:], R[:,0] = -np.inf, -np.inf\n",
    "    R[0,0] = 0\n",
    "\n",
    "    for i in range(1, m+1):\n",
    "        for j in range(1, n+1):\n",
    "            # if abs(i - j) > w:\n",
    "            #     continue\n",
    "            r0 = R[i-1, j-1] \n",
    "            r1 = R[i-1, j] \n",
    "            r2 = R[i, j-1] \n",
    "            R[i, j] = max(r0, r1, r2) + z[i-1, j-1]\n",
    "\n",
    "    # backtracking\n",
    "    i, j, size = m, n, 0\n",
    "    path = []\n",
    "    while i >= 1 and j >= 1:\n",
    "        size += 1\n",
    "        path.append((i, j))\n",
    "        r0 = R[i-1, j-1] \n",
    "        r1 = R[i-1, j] \n",
    "        r2 = R[i, j-1] \n",
    "        rmax = max(r0, r1, r2)\n",
    "\n",
    "        if rmax == r0:\n",
    "            i, j = i - 1, j - 1\n",
    "        elif rmax == r1:\n",
    "            i = i - 1\n",
    "        elif rmax == r2:\n",
    "            j = j - 1\n",
    "        else:\n",
    "            raise ValueError\n",
    "        \n",
    "    # print(f\"R[m, n]: {R[m, n]} size: {size} score: {R[m,n] / size}\")\n",
    "        \n",
    "    return R, R[m, n] / size, path"
   ]
  },
  {
   "cell_type": "code",
   "execution_count": 5,
   "metadata": {},
   "outputs": [
    {
     "name": "stdout",
     "output_type": "stream",
     "text": [
      "rel1: 0.7128006815910339 rel2: 1.0000000541860408\n"
     ]
    }
   ],
   "source": [
    "qvid = \"BJGywz0wWKg\"\n",
    "vid1 = \"ICN26rD0i6Q\"\n",
    "vid2 = \"pIvkh4QARX4\"\n",
    "\n",
    "query_video = vid2seqembs[qvid]\n",
    "video1 = vid2seqembs[vid1]\n",
    "video2 = vid2seqembs[vid2]\n",
    "\n",
    "R1, rel1, path1 = compute_dtw_score(query_video, video1, 0, 0)\n",
    "R2, rel2, path2 = compute_dtw_score(query_video, video2, 0, 0)\n",
    "\n",
    "print(f\"rel1: {rel1} rel2: {rel2}\")\n",
    "\n",
    "plt.matshow(R1)\n",
    "plt.plot([p[1] for p in path1], [p[0] for p in path1], \"w\")\n",
    "plt.savefig(\"rel1.png\")\n",
    "plt.close()\n",
    "\n",
    "plt.matshow(R2)\n",
    "plt.plot([p[1] for p in path2], [p[0] for p in path2], \"w\")\n",
    "plt.savefig(\"rel2.png\")\n",
    "plt.close()"
   ]
  }
 ],
 "metadata": {
  "kernelspec": {
   "display_name": "faiss",
   "language": "python",
   "name": "python3"
  },
  "language_info": {
   "codemirror_mode": {
    "name": "ipython",
    "version": 3
   },
   "file_extension": ".py",
   "mimetype": "text/x-python",
   "name": "python",
   "nbconvert_exporter": "python",
   "pygments_lexer": "ipython3",
   "version": "3.8.18"
  }
 },
 "nbformat": 4,
 "nbformat_minor": 2
}
