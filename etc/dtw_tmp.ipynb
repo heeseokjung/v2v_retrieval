{
 "cells": [
  {
   "cell_type": "code",
   "execution_count": 1,
   "metadata": {},
   "outputs": [],
   "source": [
    "import numpy as np\n",
    "import torch\n",
    "import torch.nn.functional as F\n",
    "import matplotlib.pyplot as plt\n",
    "\n",
    "from momaapi import MOMA\n",
    "from sentence_transformers import SentenceTransformer\n",
    "from tqdm import tqdm"
   ]
  },
  {
   "cell_type": "code",
   "execution_count": 2,
   "metadata": {},
   "outputs": [],
   "source": [
    "pattern = {}"
   ]
  },
  {
   "cell_type": "code",
   "execution_count": 3,
   "metadata": {},
   "outputs": [],
   "source": [
    "def DTW(p, q, sim):\n",
    "    D = np.zeros((len(p) + 1, len(q) + 1))\n",
    "\n",
    "    for i in range(1, len(p)+1):\n",
    "        for j in range(1, len(q)+1):\n",
    "            s = sim[p[i-1], q[j-1]]\n",
    "            D[i,j] = max(D[i-1,j], D[i,j-1], D[i-1,j-1] + s)\n",
    "\n",
    "    backtrack(p, q, sim, D)\n",
    "\n",
    "    return D\n",
    "\n",
    "def getstr(path):\n",
    "    xs = [str(p[0]) for p in path]\n",
    "    xs = \" \".join(xs)\n",
    "    ys = [str(p[1]) for p in path]\n",
    "    ys = \" \".join(ys)\n",
    "    return xs + \"\\n\" + ys\n",
    "\n",
    "def backtrack(p, q, sim, D):\n",
    "    path = []\n",
    "    i, j = len(p), len(q)\n",
    "\n",
    "    while i >= 1 and j >= 1:\n",
    "        s = sim[p[i-1], q[j-1]]\n",
    "        if D[i,j] == D[i-1,j]:\n",
    "            i = i -1\n",
    "            if path:\n",
    "                s = getstr(path[::-1])\n",
    "                if s not in pattern:\n",
    "                    pattern[s] = 1\n",
    "                else:\n",
    "                    pattern[s] += 1\n",
    "                path = []\n",
    "        elif D[i,j] == D[i,j-1]:\n",
    "            j = j - 1\n",
    "            if path:\n",
    "                s = getstr(path[::-1])\n",
    "                if s not in pattern:\n",
    "                    pattern[s] = 1\n",
    "                else:\n",
    "                    pattern[s] += 1\n",
    "                path = []\n",
    "        elif D[i,j] == D[i-1,j-1] + s:\n",
    "            i, j = i - 1, j - 1\n",
    "            path.append((p[i-1], q[j-1]))\n",
    "        else:\n",
    "            raise ValueError"
   ]
  },
  {
   "cell_type": "code",
   "execution_count": 4,
   "metadata": {},
   "outputs": [
    {
     "name": "stderr",
     "output_type": "stream",
     "text": [
      "PREPROCESSING (train): 100%|██████████| 904/904 [00:16<00:00, 54.73it/s] \n",
      "PREPROCESSING (val): 100%|██████████| 226/226 [00:03<00:00, 57.61it/s] \n",
      "PREPROCESSING (test): 100%|██████████| 282/282 [00:04<00:00, 60.21it/s] \n"
     ]
    }
   ],
   "source": [
    "# PREPROCESSING\n",
    "\n",
    "moma = MOMA(dir_moma=\"/data/dir_moma/\", paradigm=\"standard\")\n",
    "\n",
    "vid2seq = {}   # activity id -> sub-activity sequence\n",
    "sid2cname = {} # sub-activity id -> sub-activity class name\n",
    "for split in [\"train\", \"val\", \"test\"]:\n",
    "    ids_act = moma.get_ids_act(split=split)\n",
    "    for act in tqdm(moma.get_anns_act(ids_act=ids_act), desc=f\"PREPROCESSING ({split})\"):\n",
    "        sact_seq = []\n",
    "        for sact in moma.get_anns_sact(ids_sact=act.ids_sact):\n",
    "            sid2cname[sact.cid] = sact.cname\n",
    "            sact_seq.append(sact.cid)\n",
    "        vid2seq[act.id] = np.array(sact_seq)\n",
    "\n",
    "sid2cemb = {} # sub-activity id -> sub-activity caption embedding\n",
    "sbert = SentenceTransformer(\"all-MiniLM-L6-v2\")\n",
    "for vid, cname in sid2cname.items():\n",
    "    cemb = sbert.encode(cname)\n",
    "    cemb = torch.from_numpy(cemb).float()\n",
    "    sid2cemb[vid] = cemb\n",
    "    \n",
    "cembs = torch.zeros(len(sid2cemb), 384)\n",
    "for idx, emb in sid2cemb.items():\n",
    "    cembs[idx] = emb\n",
    "\n",
    "cembs = F.normalize(cembs, dim=-1)\n",
    "sim = torch.mm(cembs, cembs.t())\n",
    "sim = sim.numpy()"
   ]
  },
  {
   "cell_type": "code",
   "execution_count": 5,
   "metadata": {},
   "outputs": [
    {
     "name": "stderr",
     "output_type": "stream",
     "text": [
      "100%|██████████| 143/143 [00:10<00:00, 14.04it/s]\n"
     ]
    }
   ],
   "source": [
    "# VERSION: DO NOT ALLOW GAP\n",
    "\n",
    "# ids_act_train = moma.get_ids_act(split=\"train\")\n",
    "# ids_act_val = moma.get_ids_act(split=\"val\")\n",
    "# ids_act_test = moma.get_ids_act(split=\"test\")\n",
    "# ids_act = ids_act_train + ids_act_val + ids_act_test\n",
    "ids_act = moma.get_ids_act(cnames_act=[\"basketball game\"])\n",
    "\n",
    "for vid_i in tqdm(ids_act):\n",
    "    for vid_j in ids_act:\n",
    "        if vid_i == vid_j:\n",
    "            continue\n",
    "        p = vid2seq[vid_i]\n",
    "        q = vid2seq[vid_j]\n",
    "\n",
    "        D = DTW(p, q, sim)"
   ]
  },
  {
   "cell_type": "code",
   "execution_count": 14,
   "metadata": {},
   "outputs": [
    {
     "name": "stdout",
     "output_type": "stream",
     "text": [
      "============================\n",
      "62 62\n",
      "22 62\n",
      "prob: 0.02224039247751431\n",
      "============================\n",
      "============================\n",
      "22 62\n",
      "62 62\n",
      "prob: 0.02224039247751431\n",
      "============================\n",
      "============================\n",
      "24 62\n",
      "62 62\n",
      "prob: 0.020768601798855275\n",
      "============================\n",
      "============================\n",
      "62 62\n",
      "24 62\n",
      "prob: 0.020768601798855275\n",
      "============================\n",
      "============================\n",
      "22 62\n",
      "22 62\n",
      "prob: 0.01256473153447806\n",
      "============================\n",
      "============================\n",
      "22 22\n",
      "24 22\n",
      "prob: 0.012292177705096757\n",
      "============================\n",
      "============================\n",
      "24 22\n",
      "22 22\n",
      "prob: 0.012264922322158627\n",
      "============================\n",
      "============================\n",
      "62 62 62\n",
      "22 62 62\n",
      "prob: 0.011174707004633416\n",
      "============================\n",
      "============================\n",
      "22 62 62\n",
      "62 62 62\n",
      "prob: 0.011174707004633416\n",
      "============================\n",
      "============================\n",
      "62 22\n",
      "62 22\n",
      "prob: 0.010902153175252113\n",
      "============================\n"
     ]
    }
   ],
   "source": [
    "key, count = [], []\n",
    "for k, v in pattern.items():\n",
    "    if len(k) > 9:\n",
    "        key.append(k)\n",
    "        count.append(v)\n",
    "\n",
    "count = np.array(count)\n",
    "prob = count / count.sum()\n",
    "\n",
    "sorted_idx = np.argsort(prob)[::-1]\n",
    "\n",
    "for idx in sorted_idx[:10]:\n",
    "    print(\"============================\")\n",
    "    print(key[idx])\n",
    "    print(f\"prob: {prob[idx]}\")\n",
    "    print(\"============================\")"
   ]
  }
 ],
 "metadata": {
  "kernelspec": {
   "display_name": "base",
   "language": "python",
   "name": "python3"
  },
  "language_info": {
   "codemirror_mode": {
    "name": "ipython",
    "version": 3
   },
   "file_extension": ".py",
   "mimetype": "text/x-python",
   "name": "python",
   "nbconvert_exporter": "python",
   "pygments_lexer": "ipython3",
   "version": "3.7.13"
  },
  "orig_nbformat": 4
 },
 "nbformat": 4,
 "nbformat_minor": 2
}
