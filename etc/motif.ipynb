{
 "cells": [
  {
   "cell_type": "code",
   "execution_count": 14,
   "metadata": {},
   "outputs": [],
   "source": [
    "import numpy as np\n",
    "from momaapi import MOMA\n",
    "from itertools import product\n",
    "from tqdm import tqdm"
   ]
  },
  {
   "cell_type": "code",
   "execution_count": 2,
   "metadata": {},
   "outputs": [],
   "source": [
    "moma = MOMA(dir_moma=\"/data/dir_moma\", paradigm=\"standard\")"
   ]
  },
  {
   "cell_type": "code",
   "execution_count": 6,
   "metadata": {},
   "outputs": [
    {
     "name": "stderr",
     "output_type": "stream",
     "text": [
      "[train]: 100%|██████████| 904/904 [00:23<00:00, 38.27it/s] \n",
      "[val]: 100%|██████████| 226/226 [00:07<00:00, 29.83it/s]\n",
      "[test]: 100%|██████████| 282/282 [00:09<00:00, 30.55it/s] \n"
     ]
    }
   ],
   "source": [
    "act2seq = {} # activity name -> sub-activity sequence list\n",
    "sact2id = {} # sub-activity name -> sub-activity id\n",
    "\n",
    "for split in [\"train\", \"val\", \"test\"]:\n",
    "    ids_act = moma.get_ids_act(split=split)\n",
    "    for act in tqdm(moma.get_anns_act(ids_act=ids_act), desc=f\"[{split}]\"):\n",
    "        seq = []\n",
    "        for sact in moma.get_anns_sact(ids_sact=act.ids_sact):\n",
    "            seq.append(sact.cid)\n",
    "            sact2id[sact.cname] = sact.cid\n",
    "        \n",
    "        if act.cname not in act2seq:\n",
    "            act2seq[act.cname] = [seq]\n",
    "        else:\n",
    "            act2seq[act.cname].append(seq)\n",
    "\n",
    "sact_to_act = moma.taxonomy[\"sact_to_act\"]\n",
    "act_to_sact = {}\n",
    "for sact, act in sact_to_act.items():\n",
    "    if act not in act_to_sact:\n",
    "        act_to_sact[act] = [sact2id[sact]]\n",
    "    else:\n",
    "        act_to_sact[act].append(sact2id[sact])"
   ]
  },
  {
   "cell_type": "code",
   "execution_count": 52,
   "metadata": {},
   "outputs": [
    {
     "name": "stderr",
     "output_type": "stream",
     "text": [
      "100%|██████████| 16/16 [00:00<00:00, 669.17it/s]"
     ]
    },
    {
     "name": "stdout",
     "output_type": "stream",
     "text": [
      "motif: [62, 62] prob: 29.087% (774)\n",
      "motif: [22, 22] prob: 19.241% (512)\n",
      "motif: [62, 22] prob: 10.560% (281)\n",
      "motif: [22, 62] prob: 9.508% (253)\n",
      "motif: [62, 24] prob: 6.764% (180)\n",
      "motif: [22, 24] prob: 5.862% (156)\n",
      "motif: [24, 62] prob: 5.111% (136)\n",
      "motif: [24, 24] prob: 5.111% (136)\n",
      "motif: [24, 22] prob: 5.111% (136)\n",
      "motif: [23, 23] prob: 0.714% (19)\n",
      "motif: [24, 23] prob: 0.639% (17)\n",
      "motif: [23, 24] prob: 0.601% (16)\n",
      "motif: [22, 23] prob: 0.526% (14)\n",
      "motif: [23, 62] prob: 0.451% (12)\n",
      "motif: [62, 23] prob: 0.376% (10)\n",
      "motif: [23, 22] prob: 0.338% (9)\n"
     ]
    },
    {
     "name": "stderr",
     "output_type": "stream",
     "text": [
      "\n"
     ]
    }
   ],
   "source": [
    "act_cname = \"basketball game\"\n",
    "seq_list = act2seq[act_cname]\n",
    "\n",
    "k = 2\n",
    "sact_set = act_to_sact[act_cname]\n",
    "motifs = list(product(sact_set, repeat=k))\n",
    "motifs = [list(m) for m in motifs]\n",
    "count = np.zeros(len(motifs))\n",
    "\n",
    "for i, motif in enumerate(tqdm(motifs)):\n",
    "    m = len(motif)\n",
    "    for seq in seq_list:\n",
    "        seq_len = len(seq)\n",
    "        if seq_len < m:\n",
    "            continue\n",
    "        for j in range(0, seq_len - m + 1):\n",
    "            if seq[j:j+m] == motif:\n",
    "                count[i] += 1\n",
    "\n",
    "prob = count / count.sum()\n",
    "sorted_idx = np.argsort(prob)[::-1]\n",
    "\n",
    "for idx in sorted_idx:\n",
    "    print(f\"motif: {motifs[idx]} prob: {prob[idx] * 100.:.3f}% ({int(count[idx])})\") "
   ]
  },
  {
   "cell_type": "code",
   "execution_count": 29,
   "metadata": {},
   "outputs": [
    {
     "name": "stdout",
     "output_type": "stream",
     "text": [
      "[7, 5, 4, 3, 2, 1]\n",
      "['E', 'F', 'B', 'D', 'C', 'A']\n"
     ]
    }
   ],
   "source": [
    "x = np.array([1, 4, 2, 3, 7, 5])\n",
    "y = [\"A\", \"B\", \"C\", \"D\", \"E\", \"F\"]\n",
    "\n",
    "idx = np.argsort(x)[::-1]\n",
    "\n",
    "sx = [x[i] for i in idx]\n",
    "sy = [y[i] for i in idx]\n",
    "\n",
    "print(sx)\n",
    "print(sy)"
   ]
  }
 ],
 "metadata": {
  "kernelspec": {
   "display_name": "base",
   "language": "python",
   "name": "python3"
  },
  "language_info": {
   "codemirror_mode": {
    "name": "ipython",
    "version": 3
   },
   "file_extension": ".py",
   "mimetype": "text/x-python",
   "name": "python",
   "nbconvert_exporter": "python",
   "pygments_lexer": "ipython3",
   "version": "3.7.13"
  },
  "orig_nbformat": 4
 },
 "nbformat": 4,
 "nbformat_minor": 2
}
