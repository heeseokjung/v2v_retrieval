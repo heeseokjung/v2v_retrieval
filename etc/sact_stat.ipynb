{
 "cells": [
  {
   "cell_type": "code",
   "execution_count": 1,
   "metadata": {},
   "outputs": [],
   "source": [
    "import os\n",
    "from momaapi import MOMA\n",
    "from tqdm import tqdm"
   ]
  },
  {
   "cell_type": "code",
   "execution_count": 2,
   "metadata": {},
   "outputs": [],
   "source": [
    "moma = MOMA(dir_moma=\"/data/dir_moma\", paradigm=\"standard\")"
   ]
  },
  {
   "cell_type": "code",
   "execution_count": 3,
   "metadata": {},
   "outputs": [
    {
     "name": "stderr",
     "output_type": "stream",
     "text": [
      "100%|██████████| 904/904 [00:14<00:00, 63.54it/s] \n",
      "100%|██████████| 226/226 [00:06<00:00, 37.43it/s] \n",
      "100%|██████████| 282/282 [00:05<00:00, 48.32it/s] \n"
     ]
    }
   ],
   "source": [
    "sact2id, id2sact, sact_count = {}, {}, {}\n",
    "for split in [\"train\", \"val\", \"test\"]:\n",
    "    ids_act = moma.get_ids_act(split=split)\n",
    "    for act in tqdm(moma.get_anns_act(ids_act=ids_act)):\n",
    "        for sact in moma.get_anns_sact(ids_sact=act.ids_sact):\n",
    "            sact2id[sact.cname] = sact.cid\n",
    "            id2sact[sact.cid] = sact.cname\n",
    "            if sact.cname in sact_count:\n",
    "                sact_count[sact.cname] += 1\n",
    "            else:\n",
    "                sact_count[sact.cname] = 1"
   ]
  },
  {
   "cell_type": "code",
   "execution_count": 4,
   "metadata": {},
   "outputs": [],
   "source": [
    "sorted_id2sact = sorted(id2sact.items())\n",
    "with open(f\"sact_taxonomy.txt\", \"w\") as f:\n",
    "    for m in sorted_id2sact:\n",
    "        print(f\"{m[0]}. {m[1]}\", file=f)"
   ]
  },
  {
   "cell_type": "code",
   "execution_count": 5,
   "metadata": {},
   "outputs": [],
   "source": [
    "act_to_sact = {}\n",
    "sact_to_act = moma.taxonomy[\"sact_to_act\"]\n",
    "\n",
    "for sact, act in sact_to_act.items():\n",
    "    if act not in act_to_sact:\n",
    "        act_to_sact[act] = [sact]\n",
    "    else:\n",
    "        act_to_sact[act].append(sact)\n",
    "\n",
    "with open(\"act_to_sact.txt\", \"w\") as f:\n",
    "    for act, sact_list in act_to_sact.items():\n",
    "        print(f\"< {act} >\", file=f)\n",
    "        n_sact = 0\n",
    "        for sact in sact_list:\n",
    "            n_sact += sact_count[sact]\n",
    "        for sact in sact_list:\n",
    "            sact_cid = sact2id[sact]\n",
    "            print(f\"    {sact_cid}. {sact} ({(sact_count[sact] / n_sact)*100.:.2f})\", file=f)\n",
    "        print(\"\", file=f)"
   ]
  },
  {
   "cell_type": "code",
   "execution_count": 6,
   "metadata": {},
   "outputs": [],
   "source": [
    "ids_act_train = moma.get_ids_act(split=\"train\")\n",
    "ids_act_val = moma.get_ids_act(split=\"val\")\n",
    "ids_act_test = moma.get_ids_act(split=\"test\")\n",
    "ids_act = ids_act_train + ids_act_val + ids_act_test\n",
    "\n",
    "cls2seq = {}\n",
    "for act in moma.get_anns_act(ids_act=ids_act):\n",
    "    sact_seq = \"\"\n",
    "    anns_sact = moma.get_anns_sact(ids_sact=act.ids_sact)\n",
    "    for i, sact in enumerate(anns_sact):\n",
    "        if i == len(anns_sact) - 1:\n",
    "            sact_seq = sact_seq + f\"{sact.cid} ({act.id})\"\n",
    "        else:\n",
    "            sact_seq = sact_seq + f\"{sact.cid} -> \"\n",
    "\n",
    "    if act.cname in cls2seq:\n",
    "        cls2seq[act.cname].append(sact_seq)\n",
    "    else:\n",
    "        cls2seq[act.cname] = [sact_seq]\n",
    "\n",
    "with open(\"sact_list_per_class.txt\", \"w\") as f:\n",
    "    for cls, seq_list in cls2seq.items():\n",
    "        print(f\"< {cls} >\", file=f)\n",
    "        for sact_seq in seq_list:\n",
    "            print(sact_seq, file=f)\n",
    "        print(\"\\n\\n\", file=f)"
   ]
  }
 ],
 "metadata": {
  "kernelspec": {
   "display_name": "base",
   "language": "python",
   "name": "python3"
  },
  "language_info": {
   "codemirror_mode": {
    "name": "ipython",
    "version": 3
   },
   "file_extension": ".py",
   "mimetype": "text/x-python",
   "name": "python",
   "nbconvert_exporter": "python",
   "pygments_lexer": "ipython3",
   "version": "3.7.13"
  },
  "orig_nbformat": 4
 },
 "nbformat": 4,
 "nbformat_minor": 2
}
