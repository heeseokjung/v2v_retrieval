{
 "cells": [
  {
   "cell_type": "code",
   "execution_count": 9,
   "metadata": {},
   "outputs": [],
   "source": [
    "import torch\n",
    "import torch.nn.functional as F\n",
    "import numpy as np\n",
    "import seaborn as sns\n",
    "import matplotlib.pyplot as plt\n",
    "\n",
    "from momaapi import MOMA\n",
    "from sentence_transformers import SentenceTransformer\n",
    "from tqdm import tqdm"
   ]
  },
  {
   "cell_type": "code",
   "execution_count": 2,
   "metadata": {},
   "outputs": [],
   "source": [
    "def mean_similarity(x, y):\n",
    "    # x: n x d\n",
    "    # y: m x d\n",
    "    x = F.normalize(x, dim=-1)\n",
    "    y = F.normalize(y, dim=-1)\n",
    "    \n",
    "    return torch.mm(x, y.t()).mean()\n",
    "\n",
    "def smooth_chamfer_similarity(x, y):\n",
    "    # x: n x d\n",
    "    # y: m x d\n",
    "    alpha = 16\n",
    "    \n",
    "    x = F.normalize(x, dim=-1)\n",
    "    y = F.normalize(y, dim=-1)\n",
    "    c = torch.mm(x, y.t())\n",
    "    \n",
    "    x_sc_sim = torch.logsumexp(alpha*c, dim=1).sum() / (2.*alpha*x.shape[0])\n",
    "    y_sc_sim = torch.logsumexp(alpha*c, dim=0).sum() / (2.*alpha*y.shape[0])\n",
    "    \n",
    "    return x_sc_sim + y_sc_sim"
   ]
  },
  {
   "cell_type": "code",
   "execution_count": 3,
   "metadata": {},
   "outputs": [],
   "source": [
    "model = SentenceTransformer(\"all-MiniLM-L6-v2\")"
   ]
  },
  {
   "cell_type": "code",
   "execution_count": 13,
   "metadata": {},
   "outputs": [
    {
     "name": "stderr",
     "output_type": "stream",
     "text": [
      "100%|██████████| 1412/1412 [00:41<00:00, 33.76it/s]\n"
     ]
    }
   ],
   "source": [
    "id2emb = {}\n",
    "moma = MOMA(\"/data/dir_moma/\")\n",
    "\n",
    "ids_train = moma.get_ids_act(split=\"train\")\n",
    "ids_val = moma.get_ids_act(split=\"val\")\n",
    "ids_test = moma.get_ids_act(split=\"test\")\n",
    "ids_act = ids_train + ids_val + ids_test\n",
    "\n",
    "for act in tqdm(moma.get_anns_act(ids_act=ids_act)):\n",
    "    # if split == \"train\" and act.id == \"1YzGUyM3P2k\":\n",
    "    #     continue\n",
    "\n",
    "    captions = []\n",
    "    for sact in moma.get_anns_sact(act.ids_sact):\n",
    "        if captions and sact.cname == captions[-1]:\n",
    "            continue\n",
    "        captions.append(sact.cname)\n",
    "        \n",
    "    with torch.no_grad():\n",
    "        emb = model.encode(captions) # n x d\n",
    "        id2emb[act.id] = torch.from_numpy(emb)      "
   ]
  },
  {
   "cell_type": "code",
   "execution_count": 30,
   "metadata": {},
   "outputs": [
    {
     "name": "stderr",
     "output_type": "stream",
     "text": [
      "100%|██████████| 1411/1411 [02:25<00:00,  9.70it/s] \n"
     ]
    },
    {
     "ename": "ValueError",
     "evalue": "The truth value of an array with more than one element is ambiguous. Use a.any() or a.all()",
     "output_type": "error",
     "traceback": [
      "\u001b[0;31m---------------------------------------------------------------------------\u001b[0m",
      "\u001b[0;31mValueError\u001b[0m                                Traceback (most recent call last)",
      "\u001b[0;32m<ipython-input-30-458780eaa6d6>\u001b[0m in \u001b[0;36m<module>\u001b[0;34m\u001b[0m\n\u001b[1;32m     11\u001b[0m \u001b[0mplt\u001b[0m\u001b[0;34m.\u001b[0m\u001b[0mxlim\u001b[0m\u001b[0;34m(\u001b[0m\u001b[0;34m[\u001b[0m\u001b[0;34m-\u001b[0m\u001b[0;36m0.2\u001b[0m\u001b[0;34m,\u001b[0m \u001b[0;36m1.2\u001b[0m\u001b[0;34m]\u001b[0m\u001b[0;34m)\u001b[0m\u001b[0;34m\u001b[0m\u001b[0;34m\u001b[0m\u001b[0m\n\u001b[1;32m     12\u001b[0m \u001b[0;34m\u001b[0m\u001b[0m\n\u001b[0;32m---> 13\u001b[0;31m \u001b[0mprint\u001b[0m\u001b[0;34m(\u001b[0m\u001b[0;34mf\"larger than 0.5: {(np.array(similarity) > 0.5 and np.array(similarity) <= 1.).sum()}\"\u001b[0m\u001b[0;34m)\u001b[0m\u001b[0;34m\u001b[0m\u001b[0;34m\u001b[0m\u001b[0m\n\u001b[0m",
      "\u001b[0;31mValueError\u001b[0m: The truth value of an array with more than one element is ambiguous. Use a.any() or a.all()"
     ]
    },
    {
     "data": {
      "image/png": "[encoded data removed]",
      "text/plain": [
       "<Figure size 500x500 with 1 Axes>"
      ]
     },
     "metadata": {},
     "output_type": "display_data"
    }
   ],
   "source": [
    "similarity = []\n",
    "for i in tqdm(range(len(ids_act)-1)):\n",
    "    for j in range(i+1, len(ids_act)):\n",
    "        x = id2emb[ids_act[i]]\n",
    "        y = id2emb[ids_act[j]]\n",
    "        # similarity.append(mean_similarity(x, y))\n",
    "        similarity.append(smooth_chamfer_similarity(x, y))\n",
    "        \n",
    "# sns.heatmap(np.array(similarity))\n",
    "sns.displot(np.array(similarity))\n",
    "plt.xlim([-0.2, 1.2])\n",
    "\n",
    "print(f\"larger than 0.5: {(np.array(similarity) > 0.5).sum()}\")"
   ]
  },
  {
   "cell_type": "code",
   "execution_count": 21,
   "metadata": {},
   "outputs": [],
   "source": [
    "def DTW(p, q, sim):\n",
    "    D = np.zeros((len(p) + 1, len(q) + 1))\n",
    "\n",
    "    for i in range(1, len(p)+1):\n",
    "        for j in range(1, len(q)+1):\n",
    "            s = sim[p[i-1], q[j-1]]\n",
    "            D[i,j] = max(D[i-1,j], D[i,j-1], D[i-1,j-1] + s)\n",
    "\n",
    "    path, count = backtrack(p, q, sim, D)\n",
    "\n",
    "    return D, path, count\n",
    "\n",
    "def backtrack(p, q, sim, D):\n",
    "    path, count = [], 0\n",
    "    i, j = len(p), len(q)\n",
    "\n",
    "    while i >= 1 and j >= 1:\n",
    "        path.append((i-1, j-1))\n",
    "        s = sim[p[i-1], q[j-1]]\n",
    "        if D[i,j] == D[i-1,j]:\n",
    "            i = i -1\n",
    "        elif D[i,j] == D[i,j-1]:\n",
    "            j = j - 1\n",
    "        elif D[i,j] == D[i-1,j-1] + s:\n",
    "            i, j = i - 1, j - 1\n",
    "            count += 1\n",
    "        else:\n",
    "            raise ValueError\n",
    "        \n",
    "    return path[::-1], count"
   ]
  },
  {
   "cell_type": "code",
   "execution_count": 22,
   "metadata": {},
   "outputs": [
    {
     "name": "stderr",
     "output_type": "stream",
     "text": [
      "PREPROCESSING (train): 100%|██████████| 904/904 [00:15<00:00, 59.58it/s] \n",
      "PREPROCESSING (val): 100%|██████████| 226/226 [00:04<00:00, 55.94it/s] \n",
      "PREPROCESSING (test): 100%|██████████| 282/282 [00:01<00:00, 189.65it/s]\n"
     ]
    }
   ],
   "source": [
    "# PREPROCESSING\n",
    "\n",
    "moma = MOMA(dir_moma=\"/data/dir_moma/\", paradigm=\"standard\")\n",
    "\n",
    "vid2seq = {}   # activity id -> sub-activity sequence\n",
    "sid2cname = {} # sub-activity id -> sub-activity class name\n",
    "for split in [\"train\", \"val\", \"test\"]:\n",
    "    ids_act = moma.get_ids_act(split=split)\n",
    "    for act in tqdm(moma.get_anns_act(ids_act=ids_act), desc=f\"PREPROCESSING ({split})\"):\n",
    "        sact_seq = []\n",
    "        for sact in moma.get_anns_sact(ids_sact=act.ids_sact):\n",
    "            sid2cname[sact.cid] = sact.cname\n",
    "            sact_seq.append(sact.cid)\n",
    "        vid2seq[act.id] = np.array(sact_seq)\n",
    "\n",
    "sid2cemb = {} # sub-activity id -> sub-activity caption embedding\n",
    "sbert = SentenceTransformer(\"all-MiniLM-L6-v2\")\n",
    "for vid, cname in sid2cname.items():\n",
    "    cemb = sbert.encode(cname)\n",
    "    cemb = torch.from_numpy(cemb).float()\n",
    "    sid2cemb[vid] = cemb\n",
    "    \n",
    "cembs = torch.zeros(len(sid2cemb), 384)\n",
    "for idx, emb in sid2cemb.items():\n",
    "    cembs[idx] = emb\n",
    "\n",
    "cembs = F.normalize(cembs, dim=-1)\n",
    "sim = torch.mm(cembs, cembs.t())\n",
    "sim = sim.numpy()"
   ]
  },
  {
   "cell_type": "code",
   "execution_count": 27,
   "metadata": {},
   "outputs": [
    {
     "name": "stderr",
     "output_type": "stream",
     "text": [
      "  0%|          | 0/1411 [00:00<?, ?it/s]"
     ]
    },
    {
     "name": "stderr",
     "output_type": "stream",
     "text": [
      "100%|██████████| 1411/1411 [02:42<00:00,  8.68it/s] \n"
     ]
    },
    {
     "name": "stdout",
     "output_type": "stream",
     "text": [
      "larger than 0.5: 63926\n"
     ]
    },
    {
     "data": {
      "image/png": "[encoded data removed]",
      "text/plain": [
       "<Figure size 500x500 with 1 Axes>"
      ]
     },
     "metadata": {},
     "output_type": "display_data"
    }
   ],
   "source": [
    "ids_train = moma.get_ids_act(split=\"train\")\n",
    "ids_val = moma.get_ids_act(split=\"val\")\n",
    "ids_test = moma.get_ids_act(split=\"test\")\n",
    "ids_act = ids_train + ids_val + ids_test\n",
    "\n",
    "similarity = []\n",
    "for i in tqdm(range(len(ids_act)-1)):\n",
    "    for j in range(i+1, len(ids_act)):\n",
    "        p = vid2seq[ids_act[i]]\n",
    "        q = vid2seq[ids_act[j]]\n",
    "        D, path, count = DTW(p, q, sim)\n",
    "        if count > 0:\n",
    "            normalized_distance = D[len(p), len(q)] / count\n",
    "        else:\n",
    "            normalized_distance = D[len(p), len(q)]\n",
    "        similarity.append(normalized_distance)\n",
    "        \n",
    "# sns.heatmap(np.array(similarity))\n",
    "sns.displot(np.array(similarity))\n",
    "plt.xlim([-0.2, 1.2])\n",
    "\n",
    "print(f\"larger than 0.5: {(np.array(similarity) > 0.5).sum()}\")"
   ]
  }
 ],
 "metadata": {
  "kernelspec": {
   "display_name": "base",
   "language": "python",
   "name": "python3"
  },
  "language_info": {
   "codemirror_mode": {
    "name": "ipython",
    "version": 3
   },
   "file_extension": ".py",
   "mimetype": "text/x-python",
   "name": "python",
   "nbconvert_exporter": "python",
   "pygments_lexer": "ipython3",
   "version": "3.7.13"
  },
  "orig_nbformat": 4
 },
 "nbformat": 4,
 "nbformat_minor": 2
}
