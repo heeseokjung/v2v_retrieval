{
 "cells": [
  {
   "cell_type": "code",
   "execution_count": 1,
   "metadata": {},
   "outputs": [],
   "source": [
    "import os\n",
    "import numpy as np\n",
    "import pandas as pd\n",
    "import matplotlib.pyplot as plt\n",
    "import seaborn as sns\n",
    "\n",
    "from sklearn.manifold import TSNE\n",
    "from momaapi import MOMA\n",
    "from tqdm import tqdm"
   ]
  },
  {
   "cell_type": "code",
   "execution_count": 2,
   "metadata": {},
   "outputs": [],
   "source": [
    "moma = MOMA(\"/data/dir_moma/\")"
   ]
  },
  {
   "cell_type": "code",
   "execution_count": 3,
   "metadata": {},
   "outputs": [],
   "source": [
    "# model = \"s3d\"\n",
    "model = \"frozen\"\n",
    "feat_path = f\"/data/dir_moma/videos/{model}_feats\"\n",
    "\n",
    "xs, cnames = [], []\n",
    "for filename in os.listdir(feat_path):\n",
    "    vid = filename[:-4]\n",
    "    anns_act = moma.get_anns_act([vid])[0]\n",
    "    x = np.load(os.path.join(feat_path, filename))\n",
    "    xs.append(x.mean(axis=0))\n",
    "    cnames.append(anns_act.cname)"
   ]
  },
  {
   "cell_type": "code",
   "execution_count": 4,
   "metadata": {},
   "outputs": [],
   "source": [
    "xs = np.stack(xs, axis=0)\n",
    "xs = TSNE(n_components=2, init=\"random\", learning_rate=\"auto\").fit_transform(xs)"
   ]
  },
  {
   "cell_type": "code",
   "execution_count": 5,
   "metadata": {},
   "outputs": [],
   "source": [
    "data = {\n",
    "    \"dim1\": xs[:, 0],\n",
    "    \"dim2\": xs[:, 1],\n",
    "    \"class\": cnames,\n",
    "}\n",
    "df = pd.DataFrame(data)"
   ]
  },
  {
   "cell_type": "code",
   "execution_count": null,
   "metadata": {},
   "outputs": [],
   "source": [
    "fig = plt.figure(figsize=(15, 15))\n",
    "plt.axis(\"off\")\n",
    "\n",
    "sns.scatterplot(x=\"dim1\", y=\"dim2\", data=df, hue=\"class\", palette=\"bright\")\n",
    "plt.show()"
   ]
  }
 ],
 "metadata": {
  "kernelspec": {
   "display_name": "base",
   "language": "python",
   "name": "python3"
  },
  "language_info": {
   "codemirror_mode": {
    "name": "ipython",
    "version": 3
   },
   "file_extension": ".py",
   "mimetype": "text/x-python",
   "name": "python",
   "nbconvert_exporter": "python",
   "pygments_lexer": "ipython3",
   "version": "3.7.13"
  },
  "orig_nbformat": 4
 },
 "nbformat": 4,
 "nbformat_minor": 2
}
