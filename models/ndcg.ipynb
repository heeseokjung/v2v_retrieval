{
 "cells": [
  {
   "cell_type": "code",
   "execution_count": 1,
   "metadata": {},
   "outputs": [
    {
     "name": "stderr",
     "output_type": "stream",
     "text": [
      "/opt/conda/lib/python3.7/site-packages/tqdm/auto.py:22: TqdmWarning: IProgress not found. Please update jupyter and ipywidgets. See https://ipywidgets.readthedocs.io/en/stable/user_install.html\n",
      "  from .autonotebook import tqdm as notebook_tqdm\n"
     ]
    }
   ],
   "source": [
    "import torch"
   ]
  },
  {
   "cell_type": "code",
   "execution_count": 3,
   "metadata": {},
   "outputs": [],
   "source": [
    "def dcg(sims, labels, k=5):\n",
    "    \"\"\"\n",
    "    sims and labels must have a same order\n",
    "    sims: float, (n_g), predicted similarity scores(prediction)\n",
    "    labels: int64, (n_g), {0(negative), 1(positive)}^n_g\n",
    "    k: int, top-k\n",
    "    \"\"\"\n",
    "\n",
    "    k = sims.size(0) if k < 1 or sims.size(0) < k else k\n",
    "    _, idx = torch.topk(sims, k)\n",
    "    labels = labels[idx].to(dtype=torch.float)\n",
    "\n",
    "    # 1,2등에 점수 차이를 줄때, log(rank+1)\n",
    "    disc_factor = torch.log2(torch.arange(k, dtype=torch.float)+2) # 1, 2등 차이 존재\n",
    "    \n",
    "    # 1,2등 점수 차이가 같고, log(rank) -- 1등과 2등이 같음\n",
    "    # disc_factor = torch.log2(torch.arange(k, dtype=torch.float) + 1)  # 1, 2등을 같게\n",
    "    # disc_factor[0] = 1\n",
    "    \n",
    "    dcg_val = (labels / disc_factor).sum()\n",
    "\n",
    "    return dcg_val\n",
    "\n",
    "\n",
    "def ndcg(sims, labels, k=5):\n",
    "    \"\"\"\n",
    "    sims and labels must have a same order\n",
    "    sims: float, (n_g), predicted similarity scores\n",
    "    labels: float, (n_g), true relevance scores\n",
    "    k: int, top-k\n",
    "    \"\"\"\n",
    "    val = dcg(sims, labels, k=k)\n",
    "    idcg = dcg(labels, labels, k=k)\n",
    "    ndcg = 0 if idcg == 0 else val / idcg\n",
    "\n",
    "    return ndcg"
   ]
  },
  {
   "cell_type": "code",
   "execution_count": 16,
   "metadata": {},
   "outputs": [],
   "source": [
    "class nDCGMetric:\n",
    "    def __init__(self, topK):\n",
    "        self.topK = topK\n",
    "        self.score = {f\"nDCG@{k}\": [] for k in self.topK}\n",
    "            \n",
    "    def update(self, pred, proxy):\n",
    "        _, pred_idx = torch.topk(pred, max(self.topK))\n",
    "        _, opt_idx = torch.topk(proxy, max(self.topK))\n",
    "        \n",
    "        for k in self.topK:\n",
    "            pred_rel = proxy[pred_idx[:k]]\n",
    "            opt_rel = proxy[opt_idx[:k]]\n",
    "            \n",
    "            # dcg = ((2**pred_rel - 1) / torch.log2(torch.arange(2, k+2))).sum()\n",
    "            # idcg = ((2**opt_rel - 1) / torch.log2(torch.arange(2, k+2))).sum()\n",
    "            dcg = (pred_rel / torch.log2(torch.arange(2, k+2))).sum()\n",
    "            idcg = (opt_rel / torch.log2(torch.arange(2, k+2))).sum()\n",
    "            \n",
    "            \n",
    "            self.score[f\"nDCG@{k}\"].append(dcg / idcg)\n",
    "        \n",
    "    def compute(self):\n",
    "        return {\n",
    "            k: torch.tensor(v).mean() for k, v in self.score.items()\n",
    "        }\n",
    "        \n",
    "    def reset(self):\n",
    "        self.score = {f\"nDCG@{k}\": [] for k in self.topK}\n",
    "        \n",
    "ndcg_metric = nDCGMetric([3])"
   ]
  },
  {
   "cell_type": "code",
   "execution_count": 17,
   "metadata": {},
   "outputs": [],
   "source": [
    "pred = torch.tensor([0.5, 0.4, 0.3, 0.2, 0.1, 0.])\n",
    "gt = torch.tensor([3., 2., 1., 3., 0., 0.])"
   ]
  },
  {
   "cell_type": "code",
   "execution_count": 18,
   "metadata": {},
   "outputs": [
    {
     "name": "stdout",
     "output_type": "stream",
     "text": [
      "{'nDCG@3': tensor(0.8081)}\n"
     ]
    }
   ],
   "source": [
    "ndcg_metric.update(pred, gt)\n",
    "result = ndcg_metric.compute()\n",
    "print(result)"
   ]
  },
  {
   "cell_type": "code",
   "execution_count": 65,
   "metadata": {},
   "outputs": [
    {
     "name": "stdout",
     "output_type": "stream",
     "text": [
      "tensor(0.9574)\n"
     ]
    }
   ],
   "source": [
    "result = ndcg(pred, gt)\n",
    "print(result)"
   ]
  }
 ],
 "metadata": {
  "kernelspec": {
   "display_name": "base",
   "language": "python",
   "name": "python3"
  },
  "language_info": {
   "codemirror_mode": {
    "name": "ipython",
    "version": 3
   },
   "file_extension": ".py",
   "mimetype": "text/x-python",
   "name": "python",
   "nbconvert_exporter": "python",
   "pygments_lexer": "ipython3",
   "version": "3.7.13"
  },
  "orig_nbformat": 4
 },
 "nbformat": 4,
 "nbformat_minor": 2
}
